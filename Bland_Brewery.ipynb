{
  "cells": [
    {
      "cell_type": "markdown",
      "metadata": {
        "id": "view-in-github",
        "colab_type": "text"
      },
      "source": [
        "<a href=\"https://colab.research.google.com/github/PODEE/PYOMO-Optimization-Problems/blob/main/Bland_Brewery.ipynb\" target=\"_parent\"><img src=\"https://colab.research.google.com/assets/colab-badge.svg\" alt=\"Open In Colab\"/></a>"
      ]
    },
    {
      "cell_type": "code",
      "execution_count": null,
      "id": "a0c86fad-493f-45b3-8d94-e83899072f1a",
      "metadata": {
        "id": "a0c86fad-493f-45b3-8d94-e83899072f1a"
      },
      "outputs": [],
      "source": [
        "import pandas as pd\n",
        "import logging, pyomo\n",
        "import numpy as np\n",
        "\n",
        "from pyomo.environ import *\n",
        "from pyomo.opt import SolverFactory, SolverStatus\n",
        "from pyomo.util.infeasible import log_infeasible_constraints"
      ]
    },
    {
      "cell_type": "code",
      "execution_count": null,
      "id": "b5e5e9af-3745-447d-bcec-c7e87dc74b7d",
      "metadata": {
        "id": "b5e5e9af-3745-447d-bcec-c7e87dc74b7d",
        "outputId": "0f8513f0-a06d-4153-ce0f-7858145890e4"
      },
      "outputs": [
        {
          "data": {
            "text/plain": [
              "'6.0.1'"
            ]
          },
          "execution_count": 2,
          "metadata": {},
          "output_type": "execute_result"
        }
      ],
      "source": [
        "pyomo.__version__"
      ]
    },
    {
      "cell_type": "markdown",
      "id": "c848fcbf-28e0-48af-bbd2-99c9bd7db0a2",
      "metadata": {
        "id": "c848fcbf-28e0-48af-bbd2-99c9bd7db0a2"
      },
      "source": [
        "### Bland Brewery optimization problem from Columbia Business School\n",
        "\n",
        "http://www.columbia.edu/itc/sipa/U6033/client_edit/lectures/lec1.pdf"
      ]
    },
    {
      "cell_type": "markdown",
      "id": "9fde76ab-b990-4a7e-a89c-0dad1017df32",
      "metadata": {
        "id": "9fde76ab-b990-4a7e-a89c-0dad1017df32"
      },
      "source": [
        "### CONCRETE MODEL"
      ]
    },
    {
      "cell_type": "code",
      "execution_count": null,
      "id": "a2d591a4-a4f4-4557-88f8-90ea7cd079c5",
      "metadata": {
        "id": "a2d591a4-a4f4-4557-88f8-90ea7cd079c5"
      },
      "outputs": [],
      "source": [
        "model = ConcreteModel()"
      ]
    },
    {
      "cell_type": "code",
      "execution_count": null,
      "id": "a14629bf-b9a7-4731-938b-e383bc2145fd",
      "metadata": {
        "id": "a14629bf-b9a7-4731-938b-e383bc2145fd"
      },
      "outputs": [],
      "source": [
        "# Define decision Variables\n",
        "model.ALE = Var(within=NonNegativeIntegers)\n",
        "model.BEER = Var(within=NonNegativeIntegers)"
      ]
    },
    {
      "cell_type": "code",
      "execution_count": null,
      "id": "a3755043-fd56-4f53-bead-c84692324907",
      "metadata": {
        "id": "a3755043-fd56-4f53-bead-c84692324907"
      },
      "outputs": [],
      "source": [
        "# Define Objective Function\n",
        "model.SystemProfit = Objective(expr = 13*model.ALE + 23*model.BEER, sense = maximize)"
      ]
    },
    {
      "cell_type": "code",
      "execution_count": null,
      "id": "7e523391-0675-48e1-ae8b-05a03ae300c7",
      "metadata": {
        "id": "7e523391-0675-48e1-ae8b-05a03ae300c7"
      },
      "outputs": [],
      "source": [
        "# Define Constraints\n",
        "model.corn_lbs = Constraint(expr = 5*model.ALE + 15*model.BEER <= 480)\n",
        "model.hops_lbs = Constraint(expr = 4*model.ALE + 4*model.BEER <= 160)\n",
        "model.barley_lbs = Constraint(expr = 35*model.ALE + 20*model.BEER <= 1190)"
      ]
    },
    {
      "cell_type": "code",
      "execution_count": null,
      "id": "d520ca38-2396-409f-8eaa-0bf26e4c7141",
      "metadata": {
        "id": "d520ca38-2396-409f-8eaa-0bf26e4c7141"
      },
      "outputs": [],
      "source": [
        "# define glpk path\n",
        "solvername = 'glpk'\n",
        "solverpath_folder = '/data/conda/envs/pk30901/davon/bin/'\n",
        "solverpath_exe = '/data/conda/envs/pk30901/davon/bin/glpsol' \n",
        "\n",
        "opt = SolverFactory(solvername,executable=solverpath_exe)"
      ]
    },
    {
      "cell_type": "code",
      "execution_count": null,
      "id": "94690f53-b46f-4893-aa39-da73da413de1",
      "metadata": {
        "id": "94690f53-b46f-4893-aa39-da73da413de1",
        "outputId": "66e3f32b-b527-4ccb-e627-f28159620fa7"
      },
      "outputs": [
        {
          "name": "stdout",
          "output_type": "stream",
          "text": [
            "GLPSOL: GLPK LP/MIP Solver, v4.65\n",
            "Parameter(s) specified in the command line:\n",
            " --write /projects/pk30901/tmp/tmp7jak1mmf.glpk.raw --wglp /projects/pk30901/tmp/tmp2telr6hw.glpk.glp\n",
            " --cpxlp /projects/pk30901/tmp/tmpc7wa60ny.pyomo.lp\n",
            "Reading problem data from '/projects/pk30901/tmp/tmpc7wa60ny.pyomo.lp'...\n",
            "4 rows, 3 columns, 7 non-zeros\n",
            "2 integer variables, none of which are binary\n",
            "34 lines were read\n",
            "Writing problem data to '/projects/pk30901/tmp/tmp2telr6hw.glpk.glp'...\n",
            "26 lines were written\n",
            "GLPK Integer Optimizer, v4.65\n",
            "4 rows, 3 columns, 7 non-zeros\n",
            "2 integer variables, none of which are binary\n",
            "Preprocessing...\n",
            "3 rows, 2 columns, 6 non-zeros\n",
            "2 integer variables, none of which are binary\n",
            "Scaling...\n",
            " A: min|aij| =  4.000e+00  max|aij| =  3.500e+01  ratio =  8.750e+00\n",
            "GM: min|aij| =  6.606e-01  max|aij| =  1.514e+00  ratio =  2.291e+00\n",
            "EQ: min|aij| =  4.364e-01  max|aij| =  1.000e+00  ratio =  2.291e+00\n",
            "2N: min|aij| =  3.125e-01  max|aij| =  1.094e+00  ratio =  3.500e+00\n",
            "Constructing initial basis...\n",
            "Size of triangular part is 3\n",
            "Solving LP relaxation...\n",
            "GLPK Simplex Optimizer, v4.65\n",
            "3 rows, 2 columns, 6 non-zeros\n",
            "*     0: obj =  -0.000000000e+00 inf =   0.000e+00 (2)\n",
            "*     3: obj =   8.000000000e+02 inf =   0.000e+00 (0)\n",
            "OPTIMAL LP SOLUTION FOUND\n",
            "Integer optimization begins...\n",
            "Long-step dual simplex will be used\n",
            "+     3: mip =     not found yet <=              +inf        (1; 0)\n",
            "+     3: >>>>>   8.000000000e+02 <=   8.000000000e+02   0.0% (1; 0)\n",
            "+     3: mip =   8.000000000e+02 <=     tree is empty   0.0% (0; 1)\n",
            "INTEGER OPTIMAL SOLUTION FOUND\n",
            "Time used:   0.0 secs\n",
            "Memory used: 0.1 Mb (60612 bytes)\n",
            "Writing MIP solution to '/projects/pk30901/tmp/tmp7jak1mmf.glpk.raw'...\n",
            "16 lines were written\n",
            "2 Var Declarations\n",
            "    ALE : Size=1, Index=None\n",
            "        Key  : Lower : Value : Upper : Fixed : Stale : Domain\n",
            "        None :     0 :  12.0 :  None : False : False : NonNegativeIntegers\n",
            "    BEER : Size=1, Index=None\n",
            "        Key  : Lower : Value : Upper : Fixed : Stale : Domain\n",
            "        None :     0 :  28.0 :  None : False : False : NonNegativeIntegers\n",
            "\n",
            "1 Objective Declarations\n",
            "    SystemProfit : Size=1, Index=None, Active=True\n",
            "        Key  : Active : Sense    : Expression\n",
            "        None :   True : maximize : 13*ALE + 23*BEER\n",
            "\n",
            "3 Constraint Declarations\n",
            "    barley_lbs : Size=1, Index=None, Active=True\n",
            "        Key  : Lower : Body             : Upper  : Active\n",
            "        None :  -Inf : 35*ALE + 20*BEER : 1190.0 :   True\n",
            "    corn_lbs : Size=1, Index=None, Active=True\n",
            "        Key  : Lower : Body            : Upper : Active\n",
            "        None :  -Inf : 5*ALE + 15*BEER : 480.0 :   True\n",
            "    hops_lbs : Size=1, Index=None, Active=True\n",
            "        Key  : Lower : Body           : Upper : Active\n",
            "        None :  -Inf : 4*ALE + 4*BEER : 160.0 :   True\n",
            "\n",
            "6 Declarations: ALE BEER SystemProfit corn_lbs hops_lbs barley_lbs\n"
          ]
        }
      ],
      "source": [
        "# print system info\n",
        "result_obj = opt.solve(model, tee=True)\n",
        "model.pprint()"
      ]
    },
    {
      "cell_type": "code",
      "execution_count": null,
      "id": "67fed40d-87b2-43f9-ac82-621e0dd96c8f",
      "metadata": {
        "id": "67fed40d-87b2-43f9-ac82-621e0dd96c8f",
        "outputId": "168bfd0e-2b3d-41ab-94f6-cb35cb866fe5"
      },
      "outputs": [
        {
          "name": "stdout",
          "output_type": "stream",
          "text": [
            "Solve Status -  optimal\n",
            "Objective Function Value =  800.0\n"
          ]
        }
      ],
      "source": [
        "#status\n",
        "print(\"Solve Status - \",result_obj.solver.termination_condition)\n",
        "print(\"Objective Function Value = \", value(model.SystemProfit))"
      ]
    },
    {
      "cell_type": "code",
      "execution_count": null,
      "id": "5532ecf8-8c67-4cab-adde-de8cf6c0a5fc",
      "metadata": {
        "id": "5532ecf8-8c67-4cab-adde-de8cf6c0a5fc",
        "outputId": "1108068c-7d13-4f0f-f0cc-ded5b0e75118"
      },
      "outputs": [
        {
          "name": "stdout",
          "output_type": "stream",
          "text": [
            "ALE\n",
            "None 12.0\n",
            "BEER\n",
            "None 28.0\n"
          ]
        }
      ],
      "source": [
        "# print out values of results\n",
        "for v in model.component_objects(Var):\n",
        "    print(v)\n",
        "    for index in v:\n",
        "        print(index, v[index].value)"
      ]
    },
    {
      "cell_type": "code",
      "execution_count": null,
      "id": "3005df00-766d-4c83-aad2-cc4d233f1c0a",
      "metadata": {
        "id": "3005df00-766d-4c83-aad2-cc4d233f1c0a"
      },
      "outputs": [],
      "source": []
    },
    {
      "cell_type": "markdown",
      "id": "c1f37324-da28-4a17-8266-d5984231cb7a",
      "metadata": {
        "id": "c1f37324-da28-4a17-8266-d5984231cb7a"
      },
      "source": [
        "### Abstract Model Formulation"
      ]
    },
    {
      "cell_type": "code",
      "execution_count": null,
      "id": "5a11563d-6654-4b33-abe1-42b6e382e6b0",
      "metadata": {
        "id": "5a11563d-6654-4b33-abe1-42b6e382e6b0"
      },
      "outputs": [],
      "source": [
        "model = AbstractModel()"
      ]
    },
    {
      "cell_type": "code",
      "execution_count": null,
      "id": "ab300066-80a4-4df6-8162-97786deedd45",
      "metadata": {
        "id": "ab300066-80a4-4df6-8162-97786deedd45"
      },
      "outputs": [],
      "source": [
        "produce_items = ['ALE', 'BEER']\n",
        "ingredients = ['Corn', 'Hops', 'Barley_Malt']\n",
        "\n",
        "Profit_dict = {'ALE':13, 'BEER':23}\n",
        "max_pounds_dict = {'Corn':480, 'Hops':160, 'Barley_Malt':1190}\n",
        "\n",
        "CORN = [5,15]\n",
        "Hops = [4,4]\n",
        "Hops = [35,20]"
      ]
    },
    {
      "cell_type": "code",
      "execution_count": null,
      "id": "1391dd40-45b0-4b99-a8c0-fa8b8420192d",
      "metadata": {
        "id": "1391dd40-45b0-4b99-a8c0-fa8b8420192d"
      },
      "outputs": [],
      "source": [
        "# create a dictionary for amount of each ingredient needed for each PRODUCT\n",
        "v={}\n",
        "v['Corn','ALE'] = 5\n",
        "v['Corn','BEER'] = 15\n",
        "v['Hops','ALE'] = 4\n",
        "v['Hops','BEER'] = 4\n",
        "v['Barley_Malt','ALE'] = 35\n",
        "v['Barley_Malt','BEER'] = 20"
      ]
    },
    {
      "cell_type": "code",
      "execution_count": null,
      "id": "f3b8ddcd-06bc-4687-b0fc-7f13bd21dffa",
      "metadata": {
        "id": "f3b8ddcd-06bc-4687-b0fc-7f13bd21dffa"
      },
      "outputs": [],
      "source": [
        "#define sets\n",
        "\n",
        "model.PRODUCT = Set(initialize = produce_items)\n",
        "model.INGREDIENTS = Set(initialize = ingredients)"
      ]
    },
    {
      "cell_type": "code",
      "execution_count": null,
      "id": "b306e3f7-4a9c-4e3a-9b51-412ed038c528",
      "metadata": {
        "id": "b306e3f7-4a9c-4e3a-9b51-412ed038c528"
      },
      "outputs": [],
      "source": [
        "#define parameters\n",
        "\n",
        "model.max_pounds = Param(model.INGREDIENTS, within=NonNegativeIntegers, initialize = max_pounds_dict, default=0)\n",
        "model.Profit = Param(model.PRODUCT, within=Any, initialize = Profit_dict, default=0)\n",
        "model.Barrel_max = Param(model.INGREDIENTS, model.PRODUCT, initialize=v, default=0)"
      ]
    },
    {
      "cell_type": "code",
      "execution_count": null,
      "id": "b21b11d3-f2c1-4106-b7bb-e80f1c625651",
      "metadata": {
        "id": "b21b11d3-f2c1-4106-b7bb-e80f1c625651"
      },
      "outputs": [],
      "source": [
        "# define decision variable\n",
        "model.x = Var(model.PRODUCT, within=NonNegativeIntegers)"
      ]
    },
    {
      "cell_type": "code",
      "execution_count": null,
      "id": "90874d5f-3adb-43b0-ad34-d217db225b98",
      "metadata": {
        "id": "90874d5f-3adb-43b0-ad34-d217db225b98"
      },
      "outputs": [],
      "source": [
        "#define objective\n",
        "\n",
        "def objective(model):\n",
        "    return sum(model.Profit[i]*model.x[i] for i in model.PRODUCT)\n",
        "\n",
        "model.SystemProfit = Objective(rule=objective, sense=maximize)"
      ]
    },
    {
      "cell_type": "code",
      "execution_count": null,
      "id": "88bd929a-18e6-406b-932e-aeb4071d2333",
      "metadata": {
        "id": "88bd929a-18e6-406b-932e-aeb4071d2333"
      },
      "outputs": [],
      "source": [
        "# for each ingredient, we want a constraint for the max lbs available\n",
        "def max_lb_rule(model, i):\n",
        "    return sum(model.x[j]*model.Barrel_max[i,j] for j in model.PRODUCT) <= model.max_pounds[i]\n",
        "\n",
        "model.max_lbs = Constraint(model.INGREDIENTS, rule=max_lb_rule)"
      ]
    },
    {
      "cell_type": "code",
      "execution_count": null,
      "id": "d5f3052c-5770-481f-b730-e878c3a1063c",
      "metadata": {
        "id": "d5f3052c-5770-481f-b730-e878c3a1063c"
      },
      "outputs": [],
      "source": []
    },
    {
      "cell_type": "code",
      "execution_count": null,
      "id": "5d14d6eb-07b8-4b02-9ec4-a778d80cbf16",
      "metadata": {
        "id": "5d14d6eb-07b8-4b02-9ec4-a778d80cbf16"
      },
      "outputs": [],
      "source": [
        "#create instance of the abstract model\n",
        "instance = model.create_instance()"
      ]
    },
    {
      "cell_type": "code",
      "execution_count": null,
      "id": "f03b3c1e-5310-4277-b9df-3d2e6b367e0d",
      "metadata": {
        "id": "f03b3c1e-5310-4277-b9df-3d2e6b367e0d",
        "outputId": "25ee7447-1fca-4763-f127-e58a6dfc35b9"
      },
      "outputs": [
        {
          "data": {
            "text/plain": [
              "('ALE', 'BEER')"
            ]
          },
          "execution_count": 58,
          "metadata": {},
          "output_type": "execute_result"
        }
      ],
      "source": [
        "instance.PRODUCT.ordered_data()"
      ]
    },
    {
      "cell_type": "code",
      "execution_count": null,
      "id": "a3a11df6-9a03-41c9-b8e1-7569f2e2a84c",
      "metadata": {
        "id": "a3a11df6-9a03-41c9-b8e1-7569f2e2a84c",
        "outputId": "dd7d9661-d291-4e8b-b37d-7d8bd55d3b05"
      },
      "outputs": [
        {
          "data": {
            "text/plain": [
              "('Corn', 'Hops', 'Barley_Malt')"
            ]
          },
          "execution_count": 59,
          "metadata": {},
          "output_type": "execute_result"
        }
      ],
      "source": [
        "instance.INGREDIENTS.ordered_data()"
      ]
    },
    {
      "cell_type": "code",
      "execution_count": null,
      "id": "16678d6b-b8df-43b6-96a0-c17b3b49cad5",
      "metadata": {
        "id": "16678d6b-b8df-43b6-96a0-c17b3b49cad5",
        "outputId": "9bac87eb-083e-47ca-b053-910fadfb8f81"
      },
      "outputs": [
        {
          "data": {
            "text/plain": [
              "[('Corn', 480), ('Hops', 160), ('Barley_Malt', 1190)]"
            ]
          },
          "execution_count": 60,
          "metadata": {},
          "output_type": "execute_result"
        }
      ],
      "source": [
        "instance.max_pounds.items()"
      ]
    },
    {
      "cell_type": "code",
      "execution_count": null,
      "id": "b23046f9-8f72-47b9-b27e-7781396eda29",
      "metadata": {
        "id": "b23046f9-8f72-47b9-b27e-7781396eda29",
        "outputId": "d1384f87-0422-4993-b4fc-34bc6476afbb"
      },
      "outputs": [
        {
          "data": {
            "text/plain": [
              "[('ALE', 13), ('BEER', 23)]"
            ]
          },
          "execution_count": 61,
          "metadata": {},
          "output_type": "execute_result"
        }
      ],
      "source": [
        "instance.Profit.items()"
      ]
    },
    {
      "cell_type": "code",
      "execution_count": null,
      "id": "32d51af6-40b3-495f-a767-042d6b342372",
      "metadata": {
        "id": "32d51af6-40b3-495f-a767-042d6b342372",
        "outputId": "18fc00dd-860e-416b-d65f-f9345266d638"
      },
      "outputs": [
        {
          "data": {
            "text/plain": [
              "[(('Corn', 'ALE'), 5),\n",
              " (('Corn', 'BEER'), 15),\n",
              " (('Hops', 'ALE'), 4),\n",
              " (('Hops', 'BEER'), 4),\n",
              " (('Barley_Malt', 'ALE'), 35),\n",
              " (('Barley_Malt', 'BEER'), 20)]"
            ]
          },
          "execution_count": 62,
          "metadata": {},
          "output_type": "execute_result"
        }
      ],
      "source": [
        "instance.Barrel_max.items()"
      ]
    },
    {
      "cell_type": "code",
      "execution_count": null,
      "id": "47cf9b2f-8c6a-4b56-a776-de70e8f55cec",
      "metadata": {
        "id": "47cf9b2f-8c6a-4b56-a776-de70e8f55cec"
      },
      "outputs": [],
      "source": []
    },
    {
      "cell_type": "code",
      "execution_count": null,
      "id": "f96fe1b4-f33d-4094-b356-789fd2505f74",
      "metadata": {
        "id": "f96fe1b4-f33d-4094-b356-789fd2505f74",
        "outputId": "bef20b67-62c4-4c07-b18f-5964c404ed5e"
      },
      "outputs": [
        {
          "name": "stdout",
          "output_type": "stream",
          "text": [
            "        0.00 seconds required to write file\n",
            "        0.01 seconds required for presolve\n",
            "        0.02 seconds required for solver\n",
            "        0.00 seconds required to read logfile \n",
            "        0.00 seconds required to read solution file \n",
            "        0.02 seconds required for postsolve\n"
          ]
        }
      ],
      "source": [
        "#solve\n",
        "result = opt.solve(instance, report_timing = True)"
      ]
    },
    {
      "cell_type": "code",
      "execution_count": null,
      "id": "a1bea059-909c-4469-9325-6a8b86fa02a7",
      "metadata": {
        "id": "a1bea059-909c-4469-9325-6a8b86fa02a7",
        "outputId": "89ccdfaa-42c1-4b92-fbb0-8bfcf62bbdf7"
      },
      "outputs": [
        {
          "name": "stdout",
          "output_type": "stream",
          "text": [
            "Solve Status -  optimal\n",
            "Objective Function Value =  800.0\n"
          ]
        }
      ],
      "source": [
        "#status\n",
        "print(\"Solve Status - \", result.solver.termination_condition)\n",
        "print(\"Objective Function Value = \", value(instance.SystemProfit))"
      ]
    },
    {
      "cell_type": "code",
      "execution_count": null,
      "id": "0335bf68-6e23-4aac-a708-ad87be16d6a9",
      "metadata": {
        "id": "0335bf68-6e23-4aac-a708-ad87be16d6a9",
        "outputId": "6e387eb4-dc57-4a9b-f64e-d818648d44cd"
      },
      "outputs": [
        {
          "name": "stdout",
          "output_type": "stream",
          "text": [
            "# ==========================================================\n",
            "# = Solver Results                                         =\n",
            "# ==========================================================\n",
            "# ----------------------------------------------------------\n",
            "#   Problem Information\n",
            "# ----------------------------------------------------------\n",
            "Problem: \n",
            "- Name: unknown\n",
            "  Lower bound: 800.0\n",
            "  Upper bound: 800.0\n",
            "  Number of objectives: 1\n",
            "  Number of constraints: 4\n",
            "  Number of variables: 3\n",
            "  Number of nonzeros: 7\n",
            "  Sense: maximize\n",
            "# ----------------------------------------------------------\n",
            "#   Solver Information\n",
            "# ----------------------------------------------------------\n",
            "Solver: \n",
            "- Status: ok\n",
            "  Termination condition: optimal\n",
            "  Statistics: \n",
            "    Branch and bound: \n",
            "      Number of bounded subproblems: 1\n",
            "      Number of created subproblems: 1\n",
            "  Error rc: 0\n",
            "  Time: 0.022266626358032227\n",
            "# ----------------------------------------------------------\n",
            "#   Solution Information\n",
            "# ----------------------------------------------------------\n",
            "Solution: \n",
            "- number of solutions: 0\n",
            "  number of solutions displayed: 0\n"
          ]
        }
      ],
      "source": [
        "#solver output\n",
        "result.write()"
      ]
    },
    {
      "cell_type": "code",
      "execution_count": null,
      "id": "c2376551-2635-4d58-9f0d-e42dc8c19860",
      "metadata": {
        "id": "c2376551-2635-4d58-9f0d-e42dc8c19860",
        "outputId": "8f737c38-364a-4020-c403-4ee82eee7d1c"
      },
      "outputs": [
        {
          "name": "stdout",
          "output_type": "stream",
          "text": [
            "3 Set Declarations\n",
            "    Barrel_max_index : Size=1, Index=None, Ordered=True\n",
            "        Key  : Dimen : Domain              : Size : Members\n",
            "        None :     2 : INGREDIENTS*PRODUCT :    6 : {('Corn', 'ALE'), ('Corn', 'BEER'), ('Hops', 'ALE'), ('Hops', 'BEER'), ('Barley_Malt', 'ALE'), ('Barley_Malt', 'BEER')}\n",
            "    INGREDIENTS : Size=1, Index=None, Ordered=Insertion\n",
            "        Key  : Dimen : Domain : Size : Members\n",
            "        None :     1 :    Any :    3 : {'Corn', 'Hops', 'Barley_Malt'}\n",
            "    PRODUCT : Size=1, Index=None, Ordered=Insertion\n",
            "        Key  : Dimen : Domain : Size : Members\n",
            "        None :     1 :    Any :    2 : {'ALE', 'BEER'}\n",
            "\n",
            "3 Param Declarations\n",
            "    Barrel_max : Size=6, Index=Barrel_max_index, Domain=NonNegativeIntegers, Default=0, Mutable=False\n",
            "        Key                     : Value\n",
            "         ('Barley_Malt', 'ALE') :    35\n",
            "        ('Barley_Malt', 'BEER') :    20\n",
            "                ('Corn', 'ALE') :     5\n",
            "               ('Corn', 'BEER') :    15\n",
            "                ('Hops', 'ALE') :     4\n",
            "               ('Hops', 'BEER') :     4\n",
            "    Profit : Size=2, Index=PRODUCT, Domain=Any, Default=0, Mutable=False\n",
            "        Key  : Value\n",
            "         ALE :    13\n",
            "        BEER :    23\n",
            "    max_pounds : Size=3, Index=INGREDIENTS, Domain=NonNegativeIntegers, Default=0, Mutable=False\n",
            "        Key         : Value\n",
            "        Barley_Malt :  1190\n",
            "               Corn :   480\n",
            "               Hops :   160\n",
            "\n",
            "1 Var Declarations\n",
            "    x : Size=2, Index=PRODUCT\n",
            "        Key  : Lower : Value : Upper : Fixed : Stale : Domain\n",
            "         ALE :     0 :  12.0 :  None : False : False : NonNegativeIntegers\n",
            "        BEER :     0 :  28.0 :  None : False : False : NonNegativeIntegers\n",
            "\n",
            "1 Objective Declarations\n",
            "    SystemProfit : Size=1, Index=None, Active=True\n",
            "        Key  : Active : Sense    : Expression\n",
            "        None :   True : maximize : 13*x[ALE] + 23*x[BEER]\n",
            "\n",
            "1 Constraint Declarations\n",
            "    max_lbs : Size=3, Index=INGREDIENTS, Active=True\n",
            "        Key         : Lower : Body                   : Upper  : Active\n",
            "        Barley_Malt :  -Inf : 35*x[ALE] + 20*x[BEER] : 1190.0 :   True\n",
            "               Corn :  -Inf :  5*x[ALE] + 15*x[BEER] :  480.0 :   True\n",
            "               Hops :  -Inf :   4*x[ALE] + 4*x[BEER] :  160.0 :   True\n",
            "\n",
            "9 Declarations: PRODUCT INGREDIENTS max_pounds Profit Barrel_max_index Barrel_max x SystemProfit max_lbs\n"
          ]
        }
      ],
      "source": [
        "instance.pprint()"
      ]
    },
    {
      "cell_type": "code",
      "execution_count": null,
      "id": "2920aec6-7944-4dd6-bbbf-de0062ac50e9",
      "metadata": {
        "id": "2920aec6-7944-4dd6-bbbf-de0062ac50e9",
        "outputId": "151faad7-0322-49d3-b3a1-46b818b62585"
      },
      "outputs": [
        {
          "name": "stdout",
          "output_type": "stream",
          "text": [
            "x\n",
            "ALE 12.0\n",
            "BEER 28.0\n"
          ]
        }
      ],
      "source": [
        "# print out values of results\n",
        "for v in instance.component_objects(Var):\n",
        "    print(v)\n",
        "    for index in v:\n",
        "        print(index, v[index].value)"
      ]
    },
    {
      "cell_type": "code",
      "execution_count": null,
      "id": "f0978473-e116-46bf-9b9f-45c0d1e7429d",
      "metadata": {
        "id": "f0978473-e116-46bf-9b9f-45c0d1e7429d"
      },
      "outputs": [],
      "source": []
    },
    {
      "cell_type": "code",
      "execution_count": null,
      "id": "a6e04bb4-a440-4fd7-bc95-77107d9ed76d",
      "metadata": {
        "id": "a6e04bb4-a440-4fd7-bc95-77107d9ed76d"
      },
      "outputs": [],
      "source": []
    }
  ],
  "metadata": {
    "kernelspec": {
      "display_name": "davon",
      "language": "python",
      "name": "davon"
    },
    "language_info": {
      "codemirror_mode": {
        "name": "ipython",
        "version": 3
      },
      "file_extension": ".py",
      "mimetype": "text/x-python",
      "name": "python",
      "nbconvert_exporter": "python",
      "pygments_lexer": "ipython3",
      "version": "3.7.10"
    },
    "colab": {
      "provenance": [],
      "include_colab_link": true
    }
  },
  "nbformat": 4,
  "nbformat_minor": 5
}