{
  "nbformat": 4,
  "nbformat_minor": 0,
  "metadata": {
    "colab": {
      "provenance": []
    },
    "kernelspec": {
      "name": "python3",
      "display_name": "Python 3"
    },
    "language_info": {
      "name": "python"
    }
  },
  "cells": [
    {
      "cell_type": "markdown",
      "source": [
        "## Find the maximum of $x^y$ if $x+y=8$. Assume $x$ and $y$ are non-negative."
      ],
      "metadata": {
        "id": "4euE8f8bJdFW"
      }
    },
    {
      "cell_type": "code",
      "source": [
        "# install pyomo\n",
        "\n",
        "! pip install pyomo"
      ],
      "metadata": {
        "colab": {
          "base_uri": "https://localhost:8080/"
        },
        "id": "RWzwfIb1KGbw",
        "outputId": "df6a0e51-783f-461c-bfeb-32b75171a379"
      },
      "execution_count": 3,
      "outputs": [
        {
          "output_type": "stream",
          "name": "stdout",
          "text": [
            "Collecting pyomo\n",
            "  Downloading Pyomo-6.7.3-cp310-cp310-manylinux_2_17_x86_64.manylinux2014_x86_64.whl (12.8 MB)\n",
            "\u001b[2K     \u001b[90m━━━━━━━━━━━━━━━━━━━━━━━━━━━━━━━━━━━━━━━━\u001b[0m \u001b[32m12.8/12.8 MB\u001b[0m \u001b[31m59.8 MB/s\u001b[0m eta \u001b[36m0:00:00\u001b[0m\n",
            "\u001b[?25hCollecting ply (from pyomo)\n",
            "  Downloading ply-3.11-py2.py3-none-any.whl (49 kB)\n",
            "\u001b[2K     \u001b[90m━━━━━━━━━━━━━━━━━━━━━━━━━━━━━━━━━━━━━━━━\u001b[0m \u001b[32m49.6/49.6 kB\u001b[0m \u001b[31m4.0 MB/s\u001b[0m eta \u001b[36m0:00:00\u001b[0m\n",
            "\u001b[?25hInstalling collected packages: ply, pyomo\n",
            "Successfully installed ply-3.11 pyomo-6.7.3\n"
          ]
        }
      ]
    },
    {
      "cell_type": "code",
      "source": [
        "# install ipopt\n",
        "\n",
        "!wget -N -q \"https://matematica.unipv.it/gualandi/solvers/ipopt-linux64.zip\"\n",
        "!unzip -o -q ipopt-linux64"
      ],
      "metadata": {
        "id": "DSaTWj3IRYQY"
      },
      "execution_count": 10,
      "outputs": []
    },
    {
      "cell_type": "code",
      "execution_count": 4,
      "metadata": {
        "id": "6Y1zqbivJDD2"
      },
      "outputs": [],
      "source": [
        "import pyomo, logging\n",
        "\n",
        "from pyomo.environ import *\n",
        "from pyomo.opt import SolverFactory, SolverStatus\n",
        "from pyomo.util.infeasible import log_infeasible_constraints\n"
      ]
    },
    {
      "cell_type": "code",
      "source": [
        "pyomo.__version__"
      ],
      "metadata": {
        "colab": {
          "base_uri": "https://localhost:8080/",
          "height": 35
        },
        "id": "qzhaji94LEsB",
        "outputId": "9e1f95d0-9bc3-4610-ec40-4458706679d1"
      },
      "execution_count": 5,
      "outputs": [
        {
          "output_type": "execute_result",
          "data": {
            "text/plain": [
              "'6.7.3'"
            ],
            "application/vnd.google.colaboratory.intrinsic+json": {
              "type": "string"
            }
          },
          "metadata": {},
          "execution_count": 5
        }
      ]
    },
    {
      "cell_type": "code",
      "source": [],
      "metadata": {
        "id": "ehqKOQ3nLMfw"
      },
      "execution_count": null,
      "outputs": []
    },
    {
      "cell_type": "markdown",
      "source": [
        "### Create a Concrete Model"
      ],
      "metadata": {
        "id": "Il48S8WDLO82"
      }
    },
    {
      "cell_type": "code",
      "source": [
        "model = ConcreteModel()"
      ],
      "metadata": {
        "id": "AN0QNE_BLM_v"
      },
      "execution_count": 13,
      "outputs": []
    },
    {
      "cell_type": "code",
      "source": [
        "# Define decision Variables\n",
        "# Automatically set the domain for X and Y\n",
        "\n",
        "model.X = Var(within=NonNegativeReals)\n",
        "model.Y = Var(within=NonNegativeReals)"
      ],
      "metadata": {
        "id": "v56jru8GLar-"
      },
      "execution_count": 14,
      "outputs": []
    },
    {
      "cell_type": "code",
      "source": [
        "# Define Objective Function\n",
        "model.SystemValue = Objective(expr = model.X**model.Y, sense=maximize)"
      ],
      "metadata": {
        "id": "EnmCaa-2Labu"
      },
      "execution_count": 15,
      "outputs": []
    },
    {
      "cell_type": "code",
      "source": [
        "# Define Constraints\n",
        "model.sum_constraint = Constraint(expr = model.X + model.Y == 8)"
      ],
      "metadata": {
        "id": "p4JuasoIMLZG"
      },
      "execution_count": 16,
      "outputs": []
    },
    {
      "cell_type": "code",
      "source": [
        "opt = SolverFactory('ipopt')"
      ],
      "metadata": {
        "id": "p6R2gpu-MXOW"
      },
      "execution_count": 17,
      "outputs": []
    },
    {
      "cell_type": "code",
      "source": [
        "# print system info\n",
        "result_obj = opt.solve(model, report_timing=True, tee=True)\n",
        "model.pprint()"
      ],
      "metadata": {
        "colab": {
          "base_uri": "https://localhost:8080/"
        },
        "id": "5jXFSL4oMYZO",
        "outputId": "407afd50-0f88-4af9-f97e-9625cb0f511c"
      },
      "execution_count": 18,
      "outputs": [
        {
          "output_type": "stream",
          "name": "stdout",
          "text": [
            "        0.01 seconds required to write file\n",
            "        0.01 seconds required for presolve\n",
            "Ipopt 3.12.13: \n",
            "\n",
            "******************************************************************************\n",
            "This program contains Ipopt, a library for large-scale nonlinear optimization.\n",
            " Ipopt is released as open source code under the Eclipse Public License (EPL).\n",
            "         For more information visit http://projects.coin-or.org/Ipopt\n",
            "******************************************************************************\n",
            "\n",
            "This is Ipopt version 3.12.13, running with linear solver mumps.\n",
            "NOTE: Other linear solvers might be more efficient (see Ipopt documentation).\n",
            "\n",
            "Number of nonzeros in equality constraint Jacobian...:        2\n",
            "Number of nonzeros in inequality constraint Jacobian.:        0\n",
            "Number of nonzeros in Lagrangian Hessian.............:        3\n",
            "\n",
            "Total number of variables............................:        2\n",
            "                     variables with only lower bounds:        2\n",
            "                variables with lower and upper bounds:        0\n",
            "                     variables with only upper bounds:        0\n",
            "Total number of equality constraints.................:        1\n",
            "Total number of inequality constraints...............:        0\n",
            "        inequality constraints with only lower bounds:        0\n",
            "   inequality constraints with lower and upper bounds:        0\n",
            "        inequality constraints with only upper bounds:        0\n",
            "\n",
            "iter    objective    inf_pr   inf_du lg(mu)  ||d||  lg(rg) alpha_du alpha_pr  ls\n",
            "   0 -9.5499262e-01 7.98e+00 2.68e+00  -1.0 0.00e+00    -  0.00e+00 0.00e+00   0\n",
            "   1 -2.4414301e+02 0.00e+00 5.24e+02  -1.0 4.98e+00    -  2.02e-03 1.00e+00f  1\n",
            "   2 -2.7989469e+02 8.88e-16 7.34e+01  -1.0 6.16e-01    -  8.81e-01 1.00e+00f  1\n",
            "   3 -2.8090372e+02 0.00e+00 1.47e+00  -1.0 9.15e-02    -  1.00e+00 1.00e+00f  1\n",
            "   4 -2.8090456e+02 0.00e+00 1.14e-03  -1.0 2.56e-03    -  1.00e+00 1.00e+00f  1\n",
            "   5 -2.8090456e+02 0.00e+00 4.53e-08  -2.5 2.05e-05    -  1.00e+00 1.00e+00f  1\n",
            "   6 -2.8090456e+02 0.00e+00 1.46e-09  -3.8 6.09e-07    -  1.00e+00 1.00e+00f  1\n",
            "   7 -2.8090456e+02 8.88e-16 1.81e-11  -5.7 3.37e-08    -  1.00e+00 1.00e+00f  1\n",
            "   8 -2.8090456e+02 0.00e+00 6.79e-14  -8.6 4.18e-10    -  1.00e+00 1.00e+00h  1\n",
            "\n",
            "Number of Iterations....: 8\n",
            "\n",
            "                                   (scaled)                 (unscaled)\n",
            "Objective...............:  -2.8090455671267608e+02   -2.8090455671267608e+02\n",
            "Dual infeasibility......:   6.7898901888096207e-14    6.7898901888096207e-14\n",
            "Constraint violation....:   0.0000000000000000e+00    0.0000000000000000e+00\n",
            "Complementarity.........:   2.5059037777062746e-09    2.5059037777062746e-09\n",
            "Overall NLP error.......:   2.5059037777062746e-09    2.5059037777062746e-09\n",
            "\n",
            "\n",
            "Number of objective function evaluations             = 9\n",
            "Number of objective gradient evaluations             = 9\n",
            "Number of equality constraint evaluations            = 9\n",
            "Number of inequality constraint evaluations          = 0\n",
            "Number of equality constraint Jacobian evaluations   = 9\n",
            "Number of inequality constraint Jacobian evaluations = 0\n",
            "Number of Lagrangian Hessian evaluations             = 8\n",
            "Total CPU secs in IPOPT (w/o function evaluations)   =      0.002\n",
            "Total CPU secs in NLP function evaluations           =      0.000\n",
            "\n",
            "EXIT: Optimal Solution Found.\n",
            "\b\b\b\b\b\b\b\b\b\b\b\b\b\b\b        0.02 seconds required for solver\n",
            "        0.00 seconds required to read logfile \n",
            "        0.00 seconds required to read solution file\n",
            "        0.00 seconds required for postsolve\n",
            "2 Var Declarations\n",
            "    X : Size=1, Index=None\n",
            "        Key  : Lower : Value              : Upper : Fixed : Stale : Domain\n",
            "        None :     0 : 3.5354010355607217 :  None : False : False : NonNegativeReals\n",
            "    Y : Size=1, Index=None\n",
            "        Key  : Lower : Value             : Upper : Fixed : Stale : Domain\n",
            "        None :     0 : 4.464598964439278 :  None : False : False : NonNegativeReals\n",
            "\n",
            "1 Objective Declarations\n",
            "    SystemValue : Size=1, Index=None, Active=True\n",
            "        Key  : Active : Sense    : Expression\n",
            "        None :   True : maximize :       X**Y\n",
            "\n",
            "1 Constraint Declarations\n",
            "    sum_constraint : Size=1, Index=None, Active=True\n",
            "        Key  : Lower : Body  : Upper : Active\n",
            "        None :   8.0 : X + Y :   8.0 :   True\n",
            "\n",
            "4 Declarations: X Y SystemValue sum_constraint\n"
          ]
        }
      ]
    },
    {
      "cell_type": "code",
      "source": [
        "# check status\n",
        "print(\"Solve Status\" + result_obj.solver.termination_condition)\n",
        "print(\"\\n\"+\"Objective Function Value =\", value(model.SystemValue))"
      ],
      "metadata": {
        "colab": {
          "base_uri": "https://localhost:8080/"
        },
        "id": "i7oFtJ8eOWvw",
        "outputId": "554ac720-18a4-4554-9be8-1cba8927eb5b"
      },
      "execution_count": 19,
      "outputs": [
        {
          "output_type": "stream",
          "name": "stdout",
          "text": [
            "Solve Statusoptimal\n",
            "\n",
            "Objective Function Value = 280.9045567126761\n"
          ]
        }
      ]
    },
    {
      "cell_type": "code",
      "source": [
        "print(\"X:\", value(model.X))\n",
        "print(\"Y:\", value(model.Y))"
      ],
      "metadata": {
        "colab": {
          "base_uri": "https://localhost:8080/"
        },
        "id": "Pj-r88SXOvWn",
        "outputId": "f7f29c90-a5b7-4e5c-dac8-49f80e381327"
      },
      "execution_count": 20,
      "outputs": [
        {
          "output_type": "stream",
          "name": "stdout",
          "text": [
            "X: 3.5354010355607217\n",
            "Y: 4.464598964439278\n"
          ]
        }
      ]
    }
  ]
}